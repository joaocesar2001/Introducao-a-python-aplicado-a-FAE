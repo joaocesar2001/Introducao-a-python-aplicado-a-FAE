{
  "nbformat": 4,
  "nbformat_minor": 0,
  "metadata": {
    "colab": {
      "provenance": [],
      "authorship_tag": "ABX9TyNchGjpVehjCk3ymK1vYoVp",
      "include_colab_link": true
    },
    "kernelspec": {
      "name": "python3",
      "display_name": "Python 3"
    },
    "language_info": {
      "name": "python"
    }
  },
  "cells": [
    {
      "cell_type": "markdown",
      "metadata": {
        "id": "view-in-github",
        "colab_type": "text"
      },
      "source": [
        "<a href=\"https://colab.research.google.com/github/joaocesar2001/Introducao-a-python-aplicado-a-FAE/blob/main/Exercicios/ExerciciosAula2.ipynb\" target=\"_parent\"><img src=\"https://colab.research.google.com/assets/colab-badge.svg\" alt=\"Open In Colab\"/></a>"
      ]
    },
    {
      "cell_type": "markdown",
      "source": [
        "**Exercicio 1**\n",
        "\n",
        "Cria uma função que torne um argumento e imprima o valor e o tipo dele."
      ],
      "metadata": {
        "id": "CMKC3rqguHGu"
      }
    },
    {
      "cell_type": "code",
      "source": [
        "import math"
      ],
      "metadata": {
        "id": "HbWUwqwsv6Im"
      },
      "execution_count": 16,
      "outputs": []
    },
    {
      "cell_type": "code",
      "execution_count": 13,
      "metadata": {
        "colab": {
          "base_uri": "https://localhost:8080/"
        },
        "id": "-y0wXacXuADR",
        "outputId": "6efc0012-8c02-4946-8e01-6b38ddcc6b0a"
      },
      "outputs": [
        {
          "output_type": "stream",
          "name": "stdout",
          "text": [
            "2\n",
            "<class 'str'>\n",
            "22\n",
            "<class 'int'>\n",
            "oi\n",
            "<class 'str'>\n",
            "2.9\n",
            "<class 'float'>\n",
            "True\n",
            "<class 'bool'>\n"
          ]
        }
      ],
      "source": [
        "def funcao1(arg):\n",
        "  print(arg)\n",
        "  print(type(arg))\n",
        "\n",
        "funcao1(arg)\n",
        "\n",
        "#Exemplos\n",
        "funcao1(22)\n",
        "funcao1(\"oi\")\n",
        "funcao1(2.9)\n",
        "funcao1(True)"
      ]
    },
    {
      "cell_type": "markdown",
      "source": [
        "**Exercicio 2**\n",
        "\n",
        "Crie uma função que calcule e imprima velocidade media de um objeto a partir de uma posição inicial, a final e o tempo transcorrido para um objeto em MRU. Também crie uma função que calcule e imprima a velocidade de um objeto a partir da aceleração constante e o tempo (MRUA) (p.ex. queda livre).\n"
      ],
      "metadata": {
        "id": "gQ0jEuqIvEOt"
      }
    },
    {
      "cell_type": "code",
      "source": [
        "s0 = float(input(\"Insira a posição inicial em metros:\"))\n",
        "sf = float(input(\"Insira a posição final em metros:\"))\n",
        "t = float(input(\"Insira o tempo em segundos:\"))\n",
        "a = float(input(\"Insira a aceleração m/s²:\"))\n",
        "def velocidade_media(s0,sf,t):\n",
        "  vm = (sf-s0)/t\n",
        "  v = a*t #considerei v0 = 0\n",
        "  print(vm,\"m/s\")\n",
        "  print(v, \"m/s\")\n",
        "\n",
        "velocidade_media(s0,sf,t)\n"
      ],
      "metadata": {
        "colab": {
          "base_uri": "https://localhost:8080/"
        },
        "id": "40ANjAbCuZme",
        "outputId": "cbeb56cc-d5cd-47a3-9554-c4dfc87aa9b7"
      },
      "execution_count": 14,
      "outputs": [
        {
          "output_type": "stream",
          "name": "stdout",
          "text": [
            "Insira a posição inicial em metros:21\n",
            "Insira a posição final em metros:11\n",
            "Insira o tempo em segundos:11\n",
            "Insira a aceleração m/s²:11\n",
            "-0.9090909090909091 m/s\n",
            "121.0 m/s\n"
          ]
        }
      ]
    },
    {
      "cell_type": "markdown",
      "source": [
        "**Exercicio 3**\n",
        "\n",
        "Crie uma função para calcular o ângulo zenital do sol (da semana passada) tomando como argumento as medidas da altura e o comprimento da sombra."
      ],
      "metadata": {
        "id": "3diK0VPxvopl"
      }
    },
    {
      "cell_type": "code",
      "source": [
        "altura = int(input(\"Insira a altura em metros:\"))\n",
        "comprimento = int(input(\"Insira o comprimento em metros:\"))\n",
        "def zenital(altura, comprimento):\n",
        "  angulo = math.atan(altura/comprimento)\n",
        "  print(math.degrees(angulo))\n",
        "\n",
        "zenital(altura, comprimento)\n"
      ],
      "metadata": {
        "colab": {
          "base_uri": "https://localhost:8080/"
        },
        "id": "8UziDIknvRA-",
        "outputId": "2fdb6279-9a3f-451b-a8d8-4fcd4199642a"
      },
      "execution_count": 17,
      "outputs": [
        {
          "output_type": "stream",
          "name": "stdout",
          "text": [
            "Insira a altura em metros:11\n",
            "Insira o comprimento em metros:11\n",
            "45.0\n"
          ]
        }
      ]
    },
    {
      "cell_type": "markdown",
      "source": [
        "**Exercicio 4**\n",
        "\n",
        "Crie uma função que faça a conversão de uma medida inicialmente em milhas para m, e outra para o inverso; uma de horas para segundos, e o inverso. Utilize estas funções para resolver novamente o primeiro exercício da semana passada (dacorrida). Se uma pessoa demora 30 minutos em 4 milhas, qual a velocidade media em km/h? e o tempo medio por kilometro.\n"
      ],
      "metadata": {
        "id": "1alwnh6JwHaF"
      }
    },
    {
      "cell_type": "code",
      "source": [
        "# milhas = float(input(\"Insira a medida em milhas:\"))\n",
        "# horas = float(input(\"Insira o tempo em horas:\"))\n",
        "milhas = 4\n",
        "horas = 0.5\n",
        "def milhas_para_metros(milhas):\n",
        "  metros = milhas*1609.34\n",
        "  return metros\n",
        "\n",
        "def horas_para_segundos(horas):\n",
        "  segundos = horas*3600\n",
        "  return segundos\n",
        "\n",
        "velocidade_media2 = 3.6*(milhas_para_metros(milhas)/horas_para_segundos(horas))\n",
        "print(velocidade_media2, \"km/h\")"
      ],
      "metadata": {
        "colab": {
          "base_uri": "https://localhost:8080/"
        },
        "id": "sjcdyusZv_FG",
        "outputId": "a560858a-2715-44a1-8590-2fc7fcfe24ee"
      },
      "execution_count": 21,
      "outputs": [
        {
          "output_type": "stream",
          "name": "stdout",
          "text": [
            "12.87472 km/h\n"
          ]
        }
      ]
    },
    {
      "cell_type": "markdown",
      "source": [
        "**Exercicio 5**\n",
        "\n",
        "Crie funções para calcular o outros exemplos das aulas anteriores: IMC, Volume de uma esfera, distância entre pontos de máximos de difração. Decida quais serão os argumentos e o valor retornado."
      ],
      "metadata": {
        "id": "F5-XhWgwwqtN"
      }
    },
    {
      "cell_type": "code",
      "source": [
        "peso = float(input(\"Insira o peso em kg:\"))\n",
        "altura = float(input(\"Insira a altura em metros:\"))\n",
        "raio = float(input(\"Insira o raio da esfera em metros:\"))\n",
        "dzinho = float(input(\"Insira o valor de d em mm:\"))\n",
        "dzao = float(input(\"Insira o valor de D em mm:\"))\n",
        "lambda_ = float(input(\"Insira o valor de lambda em mm:\"))\n",
        "\n",
        "def IMC(peso,altura):\n",
        "  Calculo_IMC = peso/(altura**2)\n",
        "  print(Calculo_IMC)\n",
        "  return Calculo_IMC\n",
        "\n",
        "IMC(peso,altura)\n",
        "\n",
        "\n",
        "def Volume_esfera(raio):\n",
        "  Volume = 4*math.pi*(raio**3)/3\n",
        "  print(Volume)\n",
        "  return Volume\n",
        "\n",
        "Volume_esfera(raio)\n",
        "\n",
        "def maximos(dzinho, dzao, lambda_):\n",
        "  deltay = lambda_*dzao/dzinho\n",
        "  print(deltay, \"em mm\")\n",
        "\n",
        "maximos(dzinho, dzao, lambda_)\n",
        "\n",
        "\n",
        "\n",
        "\n",
        "\n"
      ],
      "metadata": {
        "colab": {
          "base_uri": "https://localhost:8080/"
        },
        "id": "eW-GTV2kwc0u",
        "outputId": "04b46636-db6a-4691-dce3-636e51cda4fd"
      },
      "execution_count": 31,
      "outputs": [
        {
          "output_type": "stream",
          "name": "stdout",
          "text": [
            "Insira o peso em kg:80\n",
            "Insira a altura em metros:1.8\n",
            "Insira o raio da esfera em metros:4\n",
            "Insira o valor de d em mm:50\n",
            "Insira o valor de D em mm:5\n",
            "Insira o valor de lambda em mm:2\n",
            "24.691358024691358\n",
            "268.082573106329\n",
            "0.2 em mm\n"
          ]
        }
      ]
    },
    {
      "cell_type": "code",
      "source": [],
      "metadata": {
        "id": "Mb1FIIHjwptO"
      },
      "execution_count": null,
      "outputs": []
    }
  ]
}