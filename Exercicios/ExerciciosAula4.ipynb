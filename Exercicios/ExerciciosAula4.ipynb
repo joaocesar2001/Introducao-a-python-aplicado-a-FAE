{
  "nbformat": 4,
  "nbformat_minor": 0,
  "metadata": {
    "kernelspec": {
      "display_name": "Python 3",
      "language": "python",
      "name": "python3"
    },
    "language_info": {
      "codemirror_mode": {
        "name": "ipython",
        "version": 3
      },
      "file_extension": ".py",
      "mimetype": "text/x-python",
      "name": "python",
      "nbconvert_exporter": "python",
      "pygments_lexer": "ipython3",
      "version": "3.6.4"
    },
    "colab": {
      "provenance": [],
      "include_colab_link": true
    }
  },
  "cells": [
    {
      "cell_type": "markdown",
      "metadata": {
        "id": "view-in-github",
        "colab_type": "text"
      },
      "source": [
        "<a href=\"https://colab.research.google.com/github/joaocesar2001/Introducao-a-python-aplicado-a-FAE/blob/main/Exercicios/ExerciciosAula4.ipynb\" target=\"_parent\"><img src=\"https://colab.research.google.com/assets/colab-badge.svg\" alt=\"Open In Colab\"/></a>"
      ]
    },
    {
      "cell_type": "markdown",
      "metadata": {
        "id": "lLw95iEWzVdr"
      },
      "source": [
        "### Exercício:\n",
        "\n",
        "   1. Escreva uma função com um valor de retorno que:\n",
        "      * tome como _input_ dois argumentos;\n",
        "      * execute a soma dos dois parâmetros que foram passados como argumento e atribua o resultado a uma variável;\n",
        "      * tenha como valor de retorno o dobro da soma dos dois parâmetros.\n",
        "    "
      ]
    },
    {
      "cell_type": "code",
      "source": [
        "def funcao1 (a,b):\n",
        "  c = a + b\n",
        "  return 2*c\n",
        "\n",
        "#exemplos\n",
        "print(funcao1(1,2))\n",
        "print(funcao1(2,4))"
      ],
      "metadata": {
        "colab": {
          "base_uri": "https://localhost:8080/"
        },
        "id": "AgELvsz3TTHf",
        "outputId": "027de7ec-7d94-4f51-cc58-a5ee3568107b"
      },
      "execution_count": 4,
      "outputs": [
        {
          "output_type": "stream",
          "name": "stdout",
          "text": [
            "6\n",
            "12\n"
          ]
        }
      ]
    },
    {
      "cell_type": "markdown",
      "metadata": {
        "id": "DL4IUvnOzVdz"
      },
      "source": [
        "2. Um objeto de função é um valor que você pode atribuir a uma variável ou passar como um argumento. Por exemplo, ```do_twice``` é uma função que usa um objeto de função como argumento e o chama duas vezes:\n",
        "\n",
        "Para este exercício :\n",
        "\n",
        "  a. Digite este exemplo em um script e teste-o.\n",
        "\n",
        "  b. Modifique ```do_twice``` para que sejam necessários dois argumentos, um objeto de função ``f`` e um valor ``x``, e chame a função duas vezes, passando o valor como um argumento.\n",
        "\n",
        "  c. Escreva uma versão mais geral de ```print_spam```, chamada ```print_twice```, que use uma _string_ como argumento e a imprima duas vezes.\n",
        "\n",
        "  d. Use a versão modificada (no item b) de ``` do_twice``` para chamar ```print_twice``` duas vezes, passando ```'spam'``` como um argumento.\n",
        "\n",
        "  e. Defina uma nova função chamada ```do_four``` que recebe um objeto de função e um valor e chama a função ___quatro___ vezes, passando o valor como um argumento. Deve haver apenas duas declarações no corpo desta função, e não quatro.\n",
        "  "
      ]
    },
    {
      "cell_type": "markdown",
      "metadata": {
        "id": "XJPOxWXqzVdz"
      },
      "source": [
        "Esta aula foi tomada quase íntegramente do livro ThinkPython, capítulo 3 http://greenteapress.com/thinkpython/html/thinkpython004.html\n"
      ]
    },
    {
      "cell_type": "markdown",
      "metadata": {
        "id": "lbP8VjuQzVdu"
      },
      "source": [
        "Aqui está um exemplo que usa ```do_twice``` para chamar uma função chamada ```print_spam``` duas vezes.\n"
      ]
    },
    {
      "cell_type": "code",
      "metadata": {
        "id": "woArOSSNzVds",
        "colab": {
          "base_uri": "https://localhost:8080/",
          "height": 106
        },
        "outputId": "9fd442b9-f159-4722-a0da-754a57f6772c"
      },
      "source": [
        "#def do_twice (f):\n",
        "    f ()\n",
        "    f ()"
      ],
      "execution_count": 12,
      "outputs": [
        {
          "output_type": "error",
          "ename": "IndentationError",
          "evalue": "unexpected indent (ipython-input-4118337078.py, line 2)",
          "traceback": [
            "\u001b[0;36m  File \u001b[0;32m\"/tmp/ipython-input-4118337078.py\"\u001b[0;36m, line \u001b[0;32m2\u001b[0m\n\u001b[0;31m    f ()\u001b[0m\n\u001b[0m    ^\u001b[0m\n\u001b[0;31mIndentationError\u001b[0m\u001b[0;31m:\u001b[0m unexpected indent\n"
          ]
        }
      ]
    },
    {
      "cell_type": "code",
      "metadata": {
        "id": "-h-QwkrvzVdw",
        "colab": {
          "base_uri": "https://localhost:8080/",
          "height": 176
        },
        "outputId": "036f4337-624d-4058-aec6-50992368d6af"
      },
      "source": [
        "def print_spam ():\n",
        "    print('spam')\n",
        "\n",
        "do_twice (print_spam)"
      ],
      "execution_count": 11,
      "outputs": [
        {
          "output_type": "error",
          "ename": "TypeError",
          "evalue": "do_twice() missing 1 required positional argument: 'x'",
          "traceback": [
            "\u001b[0;31m---------------------------------------------------------------------------\u001b[0m",
            "\u001b[0;31mTypeError\u001b[0m                                 Traceback (most recent call last)",
            "\u001b[0;32m/tmp/ipython-input-4216456963.py\u001b[0m in \u001b[0;36m<cell line: 0>\u001b[0;34m()\u001b[0m\n\u001b[1;32m      2\u001b[0m     \u001b[0mprint\u001b[0m\u001b[0;34m(\u001b[0m\u001b[0;34m'spam'\u001b[0m\u001b[0;34m)\u001b[0m\u001b[0;34m\u001b[0m\u001b[0;34m\u001b[0m\u001b[0m\n\u001b[1;32m      3\u001b[0m \u001b[0;34m\u001b[0m\u001b[0m\n\u001b[0;32m----> 4\u001b[0;31m \u001b[0mdo_twice\u001b[0m \u001b[0;34m(\u001b[0m\u001b[0mprint_spam\u001b[0m\u001b[0;34m)\u001b[0m\u001b[0;34m\u001b[0m\u001b[0;34m\u001b[0m\u001b[0m\n\u001b[0m",
            "\u001b[0;31mTypeError\u001b[0m: do_twice() missing 1 required positional argument: 'x'"
          ]
        }
      ]
    },
    {
      "cell_type": "code",
      "source": [
        "def do_twice (f,x):\n",
        "  f(x)\n",
        "  f(x)"
      ],
      "metadata": {
        "id": "hePN8DekUIwn"
      },
      "execution_count": 7,
      "outputs": []
    },
    {
      "cell_type": "code",
      "source": [
        "def print_twice(s):\n",
        "  print(s)\n",
        "  print(s)\n",
        "\n",
        "do_twice(print_twice, \"spam\")"
      ],
      "metadata": {
        "id": "yhSMfqMSUmpe",
        "colab": {
          "base_uri": "https://localhost:8080/"
        },
        "outputId": "084827a0-5101-490a-861f-17ea57cdeb25"
      },
      "execution_count": 8,
      "outputs": [
        {
          "output_type": "stream",
          "name": "stdout",
          "text": [
            "spam\n",
            "spam\n",
            "spam\n",
            "spam\n"
          ]
        }
      ]
    },
    {
      "cell_type": "code",
      "source": [
        "def do_four(p, y):\n",
        "  do_twice(p,y)\n",
        "  do_twice(p,y)\n",
        "'''do_four usa do_twice duas vezes, que por sua vez,chamam a funcao 4 vezes no total com o argumento y da definiçao de do_four'''\n",
        "do_four(print_twice,\"spam\") #exemplo\n"
      ],
      "metadata": {
        "id": "dtMk6L-wVnxy",
        "colab": {
          "base_uri": "https://localhost:8080/"
        },
        "outputId": "2b512cbc-1440-4d03-b110-48313b5017ef"
      },
      "execution_count": 9,
      "outputs": [
        {
          "output_type": "stream",
          "name": "stdout",
          "text": [
            "spam\n",
            "spam\n",
            "spam\n",
            "spam\n",
            "spam\n",
            "spam\n",
            "spam\n",
            "spam\n"
          ]
        }
      ]
    }
  ]
}