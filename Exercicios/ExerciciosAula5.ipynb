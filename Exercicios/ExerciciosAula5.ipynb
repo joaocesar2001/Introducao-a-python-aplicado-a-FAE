{
  "nbformat": 4,
  "nbformat_minor": 0,
  "metadata": {
    "kernelspec": {
      "display_name": "Python 3",
      "language": "python",
      "name": "python3"
    },
    "language_info": {
      "codemirror_mode": {
        "name": "ipython",
        "version": 3
      },
      "file_extension": ".py",
      "mimetype": "text/x-python",
      "name": "python",
      "nbconvert_exporter": "python",
      "pygments_lexer": "ipython3",
      "version": "3.6.4"
    },
    "colab": {
      "provenance": [],
      "include_colab_link": true
    }
  },
  "cells": [
    {
      "cell_type": "markdown",
      "metadata": {
        "id": "view-in-github",
        "colab_type": "text"
      },
      "source": [
        "<a href=\"https://colab.research.google.com/github/joaocesar2001/Introducao-a-python-aplicado-a-FAE/blob/main/Exercicios/Exercicios5.ipynb\" target=\"_parent\"><img src=\"https://colab.research.google.com/assets/colab-badge.svg\" alt=\"Open In Colab\"/></a>"
      ]
    },
    {
      "cell_type": "markdown",
      "metadata": {
        "id": "9qxCNQPhyhl2"
      },
      "source": [
        "### Exercícios:\n",
        "1. Modifique o programa da tartaruga (primeiro exemplo) para que, antes de criar a janela, ele solicite que o usuário insira a cor de fundo desejada. Ele deve armazenar as respostas do usuário em uma variável e modificar a cor da janela de acordo com os desejos do usuário.\n",
        "   * ***Dicas***: faça uso da função ***input***, built-in do python\n",
        "   * você pode encontrar uma lista de nomes de cores permitidos em http://www.tcl.tk/man/tcl8.4/TkCmd/colors.htm. Inclui alguns bem incomuns, como “peach puff” e “HotPink” ”***\n",
        "   \n",
        "1. Faça modificações similares para permitir que o usuário mude a cor da tartaruga durante a execução do programa.\n",
        "   1. Faça o mesmo para a largura da caneta da tartaruga. *Dica: seu diálogo com o usuário retornará uma string, mas o método **pensize** espera que seu argumento seja um **int**. Então, você precisará converter a **string** em um **int** antes de passá-la para **pensize**.*   \n",
        "   \n",
        "1. Investiguem os métodos e tipos do módulo turtle;\n",
        "\n",
        "1. Desenhe um quadrado, usando a forma de tartaruga, ao invés da flecha, para desenhar.\n",
        "   1. mude a velocidade com que a tartaruga faz o desenho\n",
        "   \n",
        "1. Sabendo que o ângulo interno da ponta de uma estrela de 5 pontas é de 36 graus, desenhe uma estrela em uma janela.\n",
        "![title](https://github.com/malbouis/Python_intro/blob/master/aulas_2019/pics/estrela.png?raw=1)\n",
        "\n",
        "1. Sabendo o ângulo interno da ponta de uma estrela, desenhe quatro estrelas em uma janela, com uma certa distância entre elas. Dica: use a função penup() e pendown() do módulo turtle"
      ]
    },
    {
      "cell_type": "code",
      "source": [
        "# 1.\n",
        "\n",
        "import turtle             # nos permite usar as tartarugas (turtles)\n",
        "jn = turtle.Screen()      # Abre uma janela onde as tartarugas vão caminhar\n",
        "jn.bgcolor(\"hotpink\"))\n",
        "joana = turtle.Turtle()    # Cria uma tartaruga, atribui a joana\n",
        "\n",
        "joana.forward(50)          # diz para joana andar para frente por 50 unidades\n",
        "joana.left(90)             # diz para joana virar de 90 graus\n",
        "joana.forward(30)          # Completa o segundo lado do retângulo\n",
        "\n",
        "jn.mainloop()             # Espera o usuário fechar a janela"
      ],
      "metadata": {
        "id": "nI8qouGs86B2"
      },
      "execution_count": null,
      "outputs": []
    },
    {
      "cell_type": "code",
      "source": [
        "# 2.\n",
        "import turtle             # nos permite usar as tartarugas (turtles)\n",
        "tela = str(input(\"Insira a cor de fundo desejada\"))\n",
        "cortartaruga = str(input(\"Insira uma cor para a tartaruguinha\"))\n",
        "tamanhotartaruga = int(input(\"Insira o tamanho desejado da tartaruga\"))\n",
        "jn = turtle.Screen()      # Abre uma janela onde as tartarugas vão caminhar\n",
        "jn.bgcolor(tela)\n",
        "joana = turtle.Turtle() # Cria uma tartaruga, atribui a joana\n",
        "joana.color(cortartaruga)\n",
        "joana.pensize(tamanhotartaruga)\n",
        "\n",
        "joana.forward(50)          # diz para joana andar para frente por 50 unidades\n",
        "joana.left(90)             # diz para joana virar de 90 graus\n",
        "joana.forward(30)          # Completa o segundo lado do retângulo\n",
        "\n",
        "jn.mainloop()             # Espera o usuário fechar a janela"
      ],
      "metadata": {
        "id": "YgHqfAE59t3f"
      },
      "execution_count": null,
      "outputs": []
    },
    {
      "cell_type": "code",
      "source": [
        "# 3.\n",
        "\n"
      ],
      "metadata": {
        "id": "o24CeZDh_deK"
      },
      "execution_count": null,
      "outputs": []
    },
    {
      "cell_type": "code",
      "source": [
        "# 4.\n",
        "import turtle             # nos permite usar as tartarugas (turtles)\n",
        "tela = str(input(\"Insira a cor de fundo desejada\"))\n",
        "cortartaruga = str(input(\"Insira uma cor para a tartaruguinha\"))\n",
        "tamanhotartaruga = int(input(\"Insira o tamanho desejado da tartaruga\"))\n",
        "jn = turtle.Screen()      # Abre uma janela onde as tartarugas vão caminhar\n",
        "jn.bgcolor(tela)\n",
        "joana = turtle.Turtle()\n",
        "joana.shape(\"turtle\")\n",
        "joana.speed(10)\n",
        "joana.color(cortartaruga)\n",
        "joana.pensize(tamanhotartaruga)\n",
        "\n",
        "joana.forward(50)          # diz para joana andar para frente por 50 unidades\n",
        "joana.left(90)             # diz para joana virar de 90 graus\n",
        "joana.forward(50)       # Completa o segundo lado do retângulo\n",
        "joana.left(90)\n",
        "joana.forward(50)\n",
        "joana.left(90)\n",
        "joana.forward(50)\n",
        "\n",
        "jn.mainloop()             # Espera o usuário fechar a janela"
      ],
      "metadata": {
        "id": "QBovU3KQ__yL"
      },
      "execution_count": null,
      "outputs": []
    },
    {
      "cell_type": "code",
      "source": [
        "# 5.\n",
        "\n",
        "import turtle             # nos permite usar as tartarugas (turtles)\n",
        "jn = turtle.Screen()      # Abre uma janela onde as tartarugas vão caminhar\n",
        "jn.bgcolor(\"hotpink\")\n",
        "joana = turtle.Turtle()    # Cria uma tartaruga, atribui a joana\n",
        "\n",
        "\n",
        "for i in range(5):\n",
        "  joana.forward(90)\n",
        "  joana.right(144)\n",
        "\n",
        "jn.mainloop()  # Espera o usuário fechar a janela\n",
        "\n"
      ],
      "metadata": {
        "id": "73URE-jcB83K"
      },
      "execution_count": null,
      "outputs": []
    },
    {
      "cell_type": "code",
      "source": [
        "# 6.\n",
        "\n",
        "\n",
        "import turtle             # nos permite usar as tartarugas (turtles)\n",
        "jn = turtle.Screen()      # Abre uma janela onde as tartarugas vão caminhar\n",
        "jn.bgcolor(\"hotpink\")\n",
        "joana = turtle.Turtle()    # Cria uma tartaruga, atribui a joana\n",
        "\n",
        "\n",
        "for j in range(5): # fiz de 0 a 5 pois uma das estrelas (j=0) era desenhada no mesmo local da primeira estrela\n",
        "  joana.pendown()\n",
        "  for i in range(5):\n",
        "    joana.forward(50)\n",
        "    joana.right(144)\n",
        "  joana.penup()\n",
        "  joana.goto(-50*j, 0) #Quis fazer as estrelas serem posicionadas através do parametro j\n",
        "\n",
        "jn.mainloop()  # Espera o usuário fechar a janela\n",
        "\n",
        "\n",
        "\n",
        "\n",
        "\n",
        "\n",
        "\n",
        "\n",
        "\n",
        "\n"
      ],
      "metadata": {
        "id": "s7QYVbDrNliY"
      },
      "execution_count": null,
      "outputs": []
    },
    {
      "cell_type": "markdown",
      "metadata": {
        "id": "b2s6FcByyhl-"
      },
      "source": [
        "### Exercícios em preparação para os próximos capítulos\n",
        "\n",
        "1. Escreva uma função chamada `square`, que toma um parâmetro `t`, que é uma `Turtle`. Essa função deve usar o `turtle` para desenhar um quadrado. Escreva uma chamada de função que passe `joana` como argumento para `square` e rode o programa novamente.\n",
        "\n",
        "1. Adicione um outro parâmetro, chamado `length`, à função `square`. Modifique o corpo da função de tal forma que o comprimento dos lados do quadrado seja `length` e então modifique a chamada da função para que seja passado o segundo argumento. Rode o programa novamente. Teste o seu programa com diversos valores para `length`.\n",
        "\n",
        "1. Faça uma cópia da função `square` e mude o nome para `polygon`. Adicione um outro parâmetro chamado `n` e modifique o corpo da função para que ela desenhe um polígono regular de `n` lados. Dica: Os ângulos externos de um polígono regular de `n` lados são de `360/n` graus.  \n",
        "\n",
        "1. Escreva uma função chamada `circle` que toma como argumento uma `Turtle`, `t`, e um raio, `r`, e desenha um círculo aproximado ao chamar a função `polygon` com `length` e número `n` de lados apropriados. Teste sua função com um intervalo de valores de `r`. Dica: Determine a circunferência do círculo e se certifique que `comprimento * n = circunferência`.\n",
        "\n",
        "1. Faça uma versão mais geral da função `circle`, chamada `arc`, que toma um parâmetro adicional, `angle`, que determina qual a fração do circulo a ser desenhada. `angle` está em unidades de graus, logo quando `angle=360`, a função `arc` deve desenhar um cículo completo.\n"
      ]
    },
    {
      "cell_type": "code",
      "source": [
        "# 1.\n",
        "\n",
        "import turtle\n",
        "jn = turtle.Screen()      # Abre uma janela onde as tartarugas vão caminhar\n",
        "jn.bgcolor(\"hotpink\")\n",
        "joana = turtle.Turtle()    # Cria uma tartaruga, atribui a joana\n",
        "\n",
        "\n",
        "def square(t):\n",
        "  for i in range(4):\n",
        "    t.forward(90)\n",
        "    t.left(90)\n",
        "\n",
        "square(joana)\n",
        "\n",
        "jn.mainloop()\n",
        "\n"
      ],
      "metadata": {
        "id": "PTX4dNvylwHe"
      },
      "execution_count": null,
      "outputs": []
    },
    {
      "cell_type": "code",
      "source": [
        "# 2.\n",
        "\n",
        "import turtle\n",
        "jn = turtle.Screen()      # Abre uma janela onde as tartarugas vão caminhar\n",
        "jn.bgcolor(\"hotpink\")\n",
        "joana = turtle.Turtle()    # Cria uma tartaruga, atribui a joana\n",
        "\n",
        "length = float(input(\"Digite um valor de comprimento:\"))\n",
        "\n",
        "def square(t, length):\n",
        "  for i in range(4):\n",
        "    t.forward(length)\n",
        "    t.left(90)\n",
        "\n",
        "square(joana, length)\n",
        "\n",
        "jn.mainloop()\n",
        "\n"
      ],
      "metadata": {
        "id": "pzKPCSAkpfYd"
      },
      "execution_count": null,
      "outputs": []
    },
    {
      "cell_type": "code",
      "source": [
        "# 3.\n",
        "\n",
        "import turtle\n",
        "jn = turtle.Screen()      # Abre uma janela onde as tartarugas vão caminhar\n",
        "jn.bgcolor(\"hotpink\")\n",
        "joana = turtle.Turtle()    # Cria uma tartaruga, atribui a joana\n",
        "\n",
        "n = int(input(\"Escolha um valor de n:\"))\n",
        "\n",
        "def polygon(t,n):\n",
        "  for i in range(0,n):\n",
        "    t.forward(90)\n",
        "    t.left(360/n)\n",
        "\n",
        "polygon(joana,n)\n",
        "\n",
        "jn.mainloop()"
      ],
      "metadata": {
        "id": "TVLUQTj8qYnu"
      },
      "execution_count": null,
      "outputs": []
    },
    {
      "cell_type": "code",
      "source": [
        "# 4.\n",
        "import math\n",
        "import turtle\n",
        "jn = turtle.Screen()      # Abre uma janela onde as tartarugas vão caminhar\n",
        "jn.bgcolor(\"hotpink\")\n",
        "joana = turtle.Turtle()    # Cria uma tartaruga, atribui a joana\n",
        "\n",
        "#Remvi os inputs e coloquei o calculo de length dentro de circle pra fazer com que a função dependa somente de variáveis locais\n",
        "def polygon(t,n, length):\n",
        "  for i in range(0,n):\n",
        "    t.forward(length)\n",
        "    t.left(360/n)\n",
        "\n",
        "def circle(t, r, n=100):\n",
        "  length = 2*math.pi*r/n\n",
        "  polygon(t,n, length)\n",
        "\n",
        "\n",
        "circle(joana, 100)\n",
        "\n",
        "\n",
        "\n",
        "jn.mainloop()\n"
      ],
      "metadata": {
        "id": "QtItl2u3szI1"
      },
      "execution_count": null,
      "outputs": []
    },
    {
      "cell_type": "code",
      "source": [
        "# 5.\n",
        "\n",
        "import math\n",
        "import turtle\n",
        "jn = turtle.Screen()      # Abre uma janela onde as tartarugas vão caminhar\n",
        "jn.bgcolor(\"hotpink\")\n",
        "joana = turtle.Turtle()    # Cria uma tartaruga, atribui a joana\n",
        "\n",
        "#Remvi os inputs e coloquei o calculo de length dentro de circle pra fazer com que a função dependa somente de variáveis locais\n",
        "\n",
        "\n",
        "def arc(t, r, angle, n=100):\n",
        "  length = 2*math.pi*r/n\n",
        "  numero = int(n * angle / 360)\n",
        "  for i in range(numero):\n",
        "    t.forward(length)\n",
        "    t.left(angle/numero)\n",
        "\n",
        "arc(joana, 100, 180) #exemplo de semi-circulo\n",
        "\n",
        "\n",
        "\n",
        "jn.mainloop()\n",
        "\n",
        "\n"
      ],
      "metadata": {
        "id": "ki08b0Lj0Qor"
      },
      "execution_count": null,
      "outputs": []
    }
  ]
}
