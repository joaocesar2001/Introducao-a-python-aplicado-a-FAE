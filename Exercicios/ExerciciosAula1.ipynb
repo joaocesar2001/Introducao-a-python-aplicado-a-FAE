{
  "nbformat": 4,
  "nbformat_minor": 0,
  "metadata": {
    "colab": {
      "provenance": [],
      "authorship_tag": "ABX9TyNUyU5ehW2mfWDCQyefm2cm",
      "include_colab_link": true
    },
    "kernelspec": {
      "name": "python3",
      "display_name": "Python 3"
    },
    "language_info": {
      "name": "python"
    }
  },
  "cells": [
    {
      "cell_type": "markdown",
      "metadata": {
        "id": "view-in-github",
        "colab_type": "text"
      },
      "source": [
        "<a href=\"https://colab.research.google.com/github/joaocesar2001/Introducao-a-python-aplicado-a-FAE/blob/main/Exercicios/ExerciciosAula1.ipynb\" target=\"_parent\"><img src=\"https://colab.research.google.com/assets/colab-badge.svg\" alt=\"Open In Colab\"/></a>"
      ]
    },
    {
      "cell_type": "markdown",
      "source": [
        "**Exercício 1**\n",
        "\n",
        "Considere as seguintes declarações de atribuições:\n",
        "   * largura = 17\n",
        "   * altura = 12.0\n",
        "   * delimitador = \".\"\n",
        "\n",
        "Para cada uma das expressões a seguir, escreva o valor das expressões e o tipo (do valor da expressão):\n",
        "1. largura/2\n",
        "1. largura/2.0\n",
        "1. altura/3\n",
        "1. 1 + 2 * 5\n",
        "1. delimitador*5\n",
        "\n",
        "Use o interpretador de python para verificar suas respostas.\n",
        "\n"
      ],
      "metadata": {
        "id": "UOd4W7BPiAap"
      }
    },
    {
      "cell_type": "code",
      "execution_count": 11,
      "metadata": {
        "colab": {
          "base_uri": "https://localhost:8080/"
        },
        "id": "7umf2loUdmx8",
        "outputId": "56f7d0bb-fe2b-48f1-a876-865c2fd95b9b"
      },
      "outputs": [
        {
          "output_type": "stream",
          "name": "stdout",
          "text": [
            "8.5\n",
            "<class 'float'>\n",
            "8.5\n",
            "<class 'float'>\n",
            "4.0\n",
            "<class 'float'>\n",
            "11\n",
            "<class 'int'>\n",
            ".....\n",
            "<class 'str'>\n"
          ]
        }
      ],
      "source": [
        "largura = 17\n",
        "altura = 12.0\n",
        "delimitador = \".\"\n",
        "\n",
        "print(largura/2)\n",
        "print(type(largura/2))\n",
        "\n",
        "print(largura/2.0)\n",
        "print(type(largura/2.0))\n",
        "\n",
        "print(altura/3)\n",
        "print(type(altura/3))\n",
        "\n",
        "print(1+2*5)\n",
        "print(type(1+2*5))\n",
        "\n",
        "print(delimitador*5)\n",
        "print(type(delimitador*5))\n",
        "\n",
        "\n",
        "\n",
        "\n"
      ]
    },
    {
      "cell_type": "markdown",
      "source": [
        "**Exercício 2**\n",
        "\n",
        "O volume de uma esfera de raio r é V = 4/3 * π * r^3\n",
        "Qual é o volume de uma esfera de raio 5?\n"
      ],
      "metadata": {
        "id": "qo1z31U2lHM6"
      }
    },
    {
      "cell_type": "code",
      "source": [
        "import math\n",
        "\n",
        "r = 5\n",
        "v = 4/3*math.pi*r**3\n",
        "print(v)"
      ],
      "metadata": {
        "colab": {
          "base_uri": "https://localhost:8080/"
        },
        "id": "-bMg5HmCjO47",
        "outputId": "37ccafb8-3001-42d9-d9cc-5969929b780a"
      },
      "execution_count": 14,
      "outputs": [
        {
          "output_type": "stream",
          "name": "stdout",
          "text": [
            "523.5987755982989\n"
          ]
        }
      ]
    },
    {
      "cell_type": "markdown",
      "source": [
        "**Exercício 3**\n",
        "\n",
        "Suponha que o preço de um livro seja 24.95 reais, porém as livrarias têm desconto de 40%. Os custos de envio são de 3.00 reais para o primeiro livro e 0.75 reais para os livros adicionais. Qual é o custo total da compra de 60 livros?\n",
        "\n"
      ],
      "metadata": {
        "id": "kJAxWVeEna8z"
      }
    },
    {
      "cell_type": "code",
      "source": [
        "livro = 24.95\n",
        "livrodesc = 24.95 - 0.4*24.95\n",
        "quantidade = 60\n",
        "\n",
        "custo = quantidade*livrodesc + 3 + quantidade*0.75\n",
        "\n",
        "print(custo)"
      ],
      "metadata": {
        "colab": {
          "base_uri": "https://localhost:8080/"
        },
        "id": "pBKzPYUSlanC",
        "outputId": "e0dcac52-2aab-4cc2-8566-9bdb825e3348"
      },
      "execution_count": 15,
      "outputs": [
        {
          "output_type": "stream",
          "name": "stdout",
          "text": [
            "946.1999999999999\n"
          ]
        }
      ]
    },
    {
      "cell_type": "markdown",
      "source": [
        "**Exercício 4**\n",
        "\n",
        "Um laser vermelho (com comprimento de onda λ = 632.8 nm incide em uma fenda dupla produzindo um padrão de interferência com franjas claras e escuras, em um anteparo situado a uma distância D = 1.98 m da fenda. Calcule a distância ∆y entre dois máximos consecutivos de interferência. Considere o espaçamento entre as fendas, d, como sendo igual a 0.250 mm.\n",
        "\n",
        "Dica: a distância entre dois máximos de interferência consecutivos pode ser aproximada por ∆y = λD/d.\n"
      ],
      "metadata": {
        "id": "BdP56UuOo7nz"
      }
    },
    {
      "cell_type": "code",
      "source": [
        "lambda_ = 632.8*10**(-6)\n",
        "Dzao = 1.98*10**2\n",
        "Dzinho = 0.250\n",
        "\n",
        "deltay = lambda_*Dzao/Dzinho\n",
        "print(deltay, \"em mm\")"
      ],
      "metadata": {
        "colab": {
          "base_uri": "https://localhost:8080/"
        },
        "id": "ml8xg0hNoYs9",
        "outputId": "540e2bda-d7e2-45d1-833e-6af072fc256e"
      },
      "execution_count": 23,
      "outputs": [
        {
          "output_type": "stream",
          "name": "stdout",
          "text": [
            "0.5011775999999999 em mm\n"
          ]
        }
      ]
    },
    {
      "cell_type": "code",
      "source": [],
      "metadata": {
        "id": "G62C8dMpqpWU"
      },
      "execution_count": null,
      "outputs": []
    }
  ]
}